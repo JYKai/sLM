{
 "cells": [
  {
   "cell_type": "code",
   "execution_count": 1,
   "id": "db9261b1-ad5a-4544-90ab-50bc92d40575",
   "metadata": {},
   "outputs": [
    {
     "data": {
      "text/plain": [
       "True"
      ]
     },
     "execution_count": 1,
     "metadata": {},
     "output_type": "execute_result"
    }
   ],
   "source": [
    "from dotenv import load_dotenv\n",
    "\n",
    "load_dotenv()"
   ]
  },
  {
   "cell_type": "markdown",
   "id": "84543937-de6d-4ff5-9e7f-0d535caf848c",
   "metadata": {},
   "source": [
    "### Using Language Models"
   ]
  },
  {
   "cell_type": "code",
   "execution_count": 2,
   "id": "df479e6d-b9e5-422c-ac8a-d1c2ada22cbd",
   "metadata": {},
   "outputs": [],
   "source": [
    "from langchain_openai import ChatOpenAI\n",
    "\n",
    "model = ChatOpenAI(model='gpt-4o-mini')"
   ]
  },
  {
   "cell_type": "code",
   "execution_count": 3,
   "id": "4410852d-cb5f-4742-adba-d32eafea685b",
   "metadata": {},
   "outputs": [
    {
     "data": {
      "text/plain": [
       "AIMessage(content='안녕하세요!', additional_kwargs={'refusal': None}, response_metadata={'token_usage': {'completion_tokens': 3, 'prompt_tokens': 20, 'total_tokens': 23, 'completion_tokens_details': {'accepted_prediction_tokens': 0, 'audio_tokens': 0, 'reasoning_tokens': 0, 'rejected_prediction_tokens': 0}, 'prompt_tokens_details': {'audio_tokens': 0, 'cached_tokens': 0}}, 'model_name': 'gpt-4o-mini-2024-07-18', 'system_fingerprint': 'fp_6fc10e10eb', 'finish_reason': 'stop', 'logprobs': None}, id='run-43ecb9c7-a9a4-43eb-af3f-602946346376-0', usage_metadata={'input_tokens': 20, 'output_tokens': 3, 'total_tokens': 23, 'input_token_details': {'audio': 0, 'cache_read': 0}, 'output_token_details': {'audio': 0, 'reasoning': 0}})"
      ]
     },
     "execution_count": 3,
     "metadata": {},
     "output_type": "execute_result"
    }
   ],
   "source": [
    "from langchain_core.messages import HumanMessage, SystemMessage\n",
    "\n",
    "messages = [\n",
    "    SystemMessage(content='Translate the following from English into Korean'),\n",
    "    HumanMessage(content='Hi!')\n",
    "]\n",
    "\n",
    "model.invoke(messages)"
   ]
  },
  {
   "cell_type": "markdown",
   "id": "47ade9ce-ecd0-4377-9c5d-678bd07b58d9",
   "metadata": {},
   "source": [
    "### OutputParsers"
   ]
  },
  {
   "cell_type": "code",
   "execution_count": 4,
   "id": "58815e9c-e18d-41d0-9cad-d2943d3b5645",
   "metadata": {},
   "outputs": [],
   "source": [
    "from langchain_core.output_parsers import StrOutputParser\n",
    "\n",
    "parser = StrOutputParser()"
   ]
  },
  {
   "cell_type": "code",
   "execution_count": 5,
   "id": "9e54345f-c548-458b-ad7e-dfb05816b14e",
   "metadata": {},
   "outputs": [],
   "source": [
    "result = model.invoke(messages)"
   ]
  },
  {
   "cell_type": "code",
   "execution_count": 6,
   "id": "ddc43c0c-79ed-497d-b2f8-bd6f10345f5a",
   "metadata": {},
   "outputs": [
    {
     "data": {
      "text/plain": [
       "'안녕하세요!'"
      ]
     },
     "execution_count": 6,
     "metadata": {},
     "output_type": "execute_result"
    }
   ],
   "source": [
    "parser.invoke(result)"
   ]
  },
  {
   "cell_type": "markdown",
   "id": "3bf8010a-af14-47df-8ff6-2fe0d4c681f0",
   "metadata": {},
   "source": [
    "### Prompt Templates"
   ]
  },
  {
   "cell_type": "code",
   "execution_count": 8,
   "id": "26dc0eb7-0966-4762-b05b-337879b1dbf9",
   "metadata": {},
   "outputs": [
    {
     "data": {
      "text/plain": [
       "ChatPromptValue(messages=[SystemMessage(content='Translate the following into korean:', additional_kwargs={}, response_metadata={}), HumanMessage(content='Hi!', additional_kwargs={}, response_metadata={})])"
      ]
     },
     "execution_count": 8,
     "metadata": {},
     "output_type": "execute_result"
    }
   ],
   "source": [
    "from langchain_core.prompts import ChatPromptTemplate\n",
    "\n",
    "system_template = \"Translate the following into {language}:\"\n",
    "prompt_template = ChatPromptTemplate.from_messages(\n",
    "    [(\"system\", system_template),\n",
    "     (\"user\", \"{text}\")\n",
    "    ]\n",
    ")\n",
    "\n",
    "result = prompt_template.invoke({'language': 'korean', 'text': 'Hi!'})\n",
    "result"
   ]
  },
  {
   "cell_type": "code",
   "execution_count": 9,
   "id": "d6eb0ae2-53fb-45ca-983e-d817567754d4",
   "metadata": {},
   "outputs": [
    {
     "data": {
      "text/plain": [
       "[SystemMessage(content='Translate the following into korean:', additional_kwargs={}, response_metadata={}),\n",
       " HumanMessage(content='Hi!', additional_kwargs={}, response_metadata={})]"
      ]
     },
     "execution_count": 9,
     "metadata": {},
     "output_type": "execute_result"
    }
   ],
   "source": [
    "result.to_messages()"
   ]
  },
  {
   "cell_type": "markdown",
   "id": "513fa652-7ef0-4671-a5a4-a1474cbcd806",
   "metadata": {},
   "source": [
    "### Vector stores and retrievers"
   ]
  },
  {
   "cell_type": "code",
   "execution_count": 10,
   "id": "715f46bc-ebae-4420-94fb-3044c719f5b6",
   "metadata": {},
   "outputs": [],
   "source": [
    "from langchain_core.documents import Document\n",
    "\n",
    "documents = [\n",
    "    Document(\n",
    "        page_content=\"Dogs are great companions, known for their loyalty and friendliness.\",\n",
    "        metadata={\"source\": \"mammal-pets-doc\"},\n",
    "    ),\n",
    "    Document(\n",
    "        page_content=\"Cats are independent pets that often enjoy their own space.\",\n",
    "        metadata={\"source\": \"mammal-pets-doc\"},\n",
    "    ),\n",
    "    Document(\n",
    "        page_content=\"Goldfish are popular pets for beginners, requiring relatively simple care.\",\n",
    "        metadata={\"source\": \"fish-pets-doc\"},\n",
    "    ),\n",
    "    Document(\n",
    "        page_content=\"Parrots are intelligent birds capable of mimicking human speech.\",\n",
    "        metadata={\"source\": \"bird-pets-doc\"},\n",
    "    ),\n",
    "    Document(\n",
    "        page_content=\"Rabbits are social animals that need plenty of space to hop around.\",\n",
    "        metadata={\"source\": \"mammal-pets-doc\"},\n",
    "    ),\n",
    "]"
   ]
  },
  {
   "cell_type": "code",
   "execution_count": 11,
   "id": "686e1f49-48d5-45e5-998e-0282a7c2d00d",
   "metadata": {},
   "outputs": [],
   "source": [
    "from langchain_chroma import Chroma\n",
    "from langchain_openai import OpenAIEmbeddings\n",
    "\n",
    "vectorstore = Chroma.from_documents(\n",
    "    documents,\n",
    "    embedding=OpenAIEmbeddings()\n",
    ")"
   ]
  },
  {
   "cell_type": "code",
   "execution_count": 12,
   "id": "4e81c5c5-c156-4a8a-8627-8cdabe49809e",
   "metadata": {},
   "outputs": [
    {
     "data": {
      "text/plain": [
       "[Document(metadata={'source': 'mammal-pets-doc'}, page_content='Cats are independent pets that often enjoy their own space.'),\n",
       " Document(metadata={'source': 'mammal-pets-doc'}, page_content='Dogs are great companions, known for their loyalty and friendliness.'),\n",
       " Document(metadata={'source': 'mammal-pets-doc'}, page_content='Rabbits are social animals that need plenty of space to hop around.'),\n",
       " Document(metadata={'source': 'bird-pets-doc'}, page_content='Parrots are intelligent birds capable of mimicking human speech.')]"
      ]
     },
     "execution_count": 12,
     "metadata": {},
     "output_type": "execute_result"
    }
   ],
   "source": [
    "vectorstore.similarity_search(\"cat\")"
   ]
  },
  {
   "cell_type": "code",
   "execution_count": 14,
   "id": "c83ef4e1-b4e7-46f1-b853-6713d1816923",
   "metadata": {},
   "outputs": [
    {
     "data": {
      "text/plain": [
       "[Document(metadata={'source': 'mammal-pets-doc'}, page_content='Cats are independent pets that often enjoy their own space.'),\n",
       " Document(metadata={'source': 'mammal-pets-doc'}, page_content='Dogs are great companions, known for their loyalty and friendliness.'),\n",
       " Document(metadata={'source': 'mammal-pets-doc'}, page_content='Rabbits are social animals that need plenty of space to hop around.'),\n",
       " Document(metadata={'source': 'bird-pets-doc'}, page_content='Parrots are intelligent birds capable of mimicking human speech.')]"
      ]
     },
     "execution_count": 14,
     "metadata": {},
     "output_type": "execute_result"
    }
   ],
   "source": [
    "await vectorstore.asimilarity_search(\"cat\")"
   ]
  },
  {
   "cell_type": "code",
   "execution_count": 16,
   "id": "c96af139-29f2-419b-a61c-f247ac98ff93",
   "metadata": {},
   "outputs": [
    {
     "data": {
      "text/plain": [
       "[(Document(metadata={'source': 'mammal-pets-doc'}, page_content='Cats are independent pets that often enjoy their own space.'),\n",
       "  0.37521976232528687),\n",
       " (Document(metadata={'source': 'mammal-pets-doc'}, page_content='Dogs are great companions, known for their loyalty and friendliness.'),\n",
       "  0.48278287053108215),\n",
       " (Document(metadata={'source': 'mammal-pets-doc'}, page_content='Rabbits are social animals that need plenty of space to hop around.'),\n",
       "  0.49597978591918945),\n",
       " (Document(metadata={'source': 'bird-pets-doc'}, page_content='Parrots are intelligent birds capable of mimicking human speech.'),\n",
       "  0.4974355101585388)]"
      ]
     },
     "execution_count": 16,
     "metadata": {},
     "output_type": "execute_result"
    }
   ],
   "source": [
    "vectorstore.similarity_search_with_score(\"cat\")"
   ]
  },
  {
   "cell_type": "code",
   "execution_count": 17,
   "id": "d01076cb-5476-4412-82c6-81c735147a56",
   "metadata": {},
   "outputs": [
    {
     "data": {
      "text/plain": [
       "[Document(metadata={'source': 'mammal-pets-doc'}, page_content='Cats are independent pets that often enjoy their own space.'),\n",
       " Document(metadata={'source': 'mammal-pets-doc'}, page_content='Dogs are great companions, known for their loyalty and friendliness.'),\n",
       " Document(metadata={'source': 'mammal-pets-doc'}, page_content='Rabbits are social animals that need plenty of space to hop around.'),\n",
       " Document(metadata={'source': 'bird-pets-doc'}, page_content='Parrots are intelligent birds capable of mimicking human speech.')]"
      ]
     },
     "execution_count": 17,
     "metadata": {},
     "output_type": "execute_result"
    }
   ],
   "source": [
    "embedding = OpenAIEmbeddings()\n",
    "\n",
    "vectorstore.similarity_search_by_vector(embedding.embed_query(\"cat\"))"
   ]
  },
  {
   "cell_type": "markdown",
   "id": "85e9f9d2-f351-4b97-93dc-c85d969a20e3",
   "metadata": {},
   "source": [
    "### Retrievers"
   ]
  },
  {
   "cell_type": "code",
   "execution_count": 20,
   "id": "3cbf12b3-d9b1-436e-a3be-a174d8b66308",
   "metadata": {},
   "outputs": [
    {
     "data": {
      "text/plain": [
       "[[Document(metadata={'source': 'mammal-pets-doc'}, page_content='Cats are independent pets that often enjoy their own space.')],\n",
       " [Document(metadata={'source': 'fish-pets-doc'}, page_content='Goldfish are popular pets for beginners, requiring relatively simple care.')]]"
      ]
     },
     "execution_count": 20,
     "metadata": {},
     "output_type": "execute_result"
    }
   ],
   "source": [
    "from typing import List\n",
    "\n",
    "from langchain_core.documents import Document\n",
    "from langchain_core.runnables import RunnableLambda\n",
    "\n",
    "retriever = RunnableLambda(vectorstore.similarity_search).bind(k=1)\n",
    "retriever.batch([\"cat\", \"shark\"])"
   ]
  },
  {
   "cell_type": "code",
   "execution_count": 22,
   "id": "f23fdace-4a34-4816-90d3-c49a38bfe55e",
   "metadata": {},
   "outputs": [
    {
     "data": {
      "text/plain": [
       "[[Document(metadata={'source': 'mammal-pets-doc'}, page_content='Cats are independent pets that often enjoy their own space.')],\n",
       " [Document(metadata={'source': 'fish-pets-doc'}, page_content='Goldfish are popular pets for beginners, requiring relatively simple care.')]]"
      ]
     },
     "execution_count": 22,
     "metadata": {},
     "output_type": "execute_result"
    }
   ],
   "source": [
    "retriever = vectorstore.as_retriever(\n",
    "    search_type=\"similarity\",\n",
    "    search_kwargs={\"k\": 1},\n",
    ")\n",
    "\n",
    "retriever.batch([\"cat\", \"shark\"])"
   ]
  },
  {
   "cell_type": "code",
   "execution_count": 23,
   "id": "108b1cdb-4578-4a73-92ff-7c4b94b36b09",
   "metadata": {},
   "outputs": [],
   "source": [
    "from langchain_core.runnables import RunnablePassthrough\n",
    "\n",
    "llm = ChatOpenAI(model='gpt-4o-mini')\n",
    "\n",
    "message = \"\"\"\n",
    "Answer this question using the provided context only.\n",
    "\n",
    "Question:\n",
    "{question}\n",
    "\n",
    "Context:\n",
    "{context}\n",
    "\"\"\"\n",
    "\n",
    "prompt = ChatPromptTemplate.from_messages([(\"human\", message)])\n",
    "\n",
    "rag_chain = {\"context\": retriever, \"question\": RunnablePassthrough()} | prompt | llm | StrOutputParser()"
   ]
  },
  {
   "cell_type": "code",
   "execution_count": 24,
   "id": "572ded43-376b-4f78-a7ae-7cfaaa7a24a3",
   "metadata": {},
   "outputs": [
    {
     "data": {
      "text/plain": [
       "'Cats are independent pets that often enjoy their own space.'"
      ]
     },
     "execution_count": 24,
     "metadata": {},
     "output_type": "execute_result"
    }
   ],
   "source": [
    "rag_chain.invoke(\"Tell me about cats\")"
   ]
  },
  {
   "cell_type": "markdown",
   "id": "dd6de556-5706-4df4-879c-da081d2b5f78",
   "metadata": {},
   "source": [
    "### Build an Agent"
   ]
  },
  {
   "cell_type": "code",
   "execution_count": 25,
   "id": "7a1e3dc4-eb0b-4ba0-90a1-caf2975c114c",
   "metadata": {},
   "outputs": [
    {
     "name": "stdout",
     "output_type": "stream",
     "text": [
      "[{'url': 'https://www.weatherapi.com/', 'content': \"{'location': {'name': 'Incheon', 'region': '', 'country': 'South Korea', 'lat': 37.4536, 'lon': 126.7317, 'tz_id': 'Asia/Seoul', 'localtime_epoch': 1734567739, 'localtime': '2024-12-19 09:22'}, 'current': {'last_updated_epoch': 1734567300, 'last_updated': '2024-12-19 09:15', 'temp_c': -1.6, 'temp_f': 29.2, 'is_day': 1, 'condition': {'text': 'Sunny', 'icon': '//cdn.weatherapi.com/weather/64x64/day/113.png', 'code': 1000}, 'wind_mph': 2.9, 'wind_kph': 4.7, 'wind_degree': 25, 'wind_dir': 'NNE', 'pressure_mb': 1031.0, 'pressure_in': 30.45, 'precip_mm': 0.0, 'precip_in': 0.0, 'humidity': 32, 'cloud': 0, 'feelslike_c': -3.2, 'feelslike_f': 26.2, 'windchill_c': -3.2, 'windchill_f': 26.2, 'heatindex_c': -1.6, 'heatindex_f': 29.2, 'dewpoint_c': -16.0, 'dewpoint_f': 3.3, 'vis_km': 10.0, 'vis_miles': 6.0, 'uv': 0.3, 'gust_mph': 3.7, 'gust_kph': 5.9}}\"}, {'url': 'https://world-weather.info/forecast/south_korea/incheon/december-2024/', 'content': 'Detailed ⚡ Incheon Weather Forecast for December 2024 - day/night 🌡️ temperatures, precipitations - World-Weather.info. Add the current city. Search. Weather; Archive; Widgets °F. World; South Korea; Weather in Incheon; ... 12 +43° +32° 13 +39° +30° 14'}]\n"
     ]
    }
   ],
   "source": [
    "from langchain_community.tools.tavily_search import TavilySearchResults\n",
    "\n",
    "search_tool = TavilySearchResults(max_results=2)\n",
    "search_results = search_tool.invoke(\"What is the weather in Incheon?\")\n",
    "\n",
    "print(search_results)"
   ]
  },
  {
   "cell_type": "code",
   "execution_count": 26,
   "id": "9f725b9a-6744-4dab-8e0d-7f3496af4983",
   "metadata": {},
   "outputs": [
    {
     "name": "stdout",
     "output_type": "stream",
     "text": [
      "ContentString: Hello! How can I assist you today?\n",
      "ToolCalls: []\n",
      "ContentString: \n",
      "ToolCalls: [{'name': 'tavily_search_results_json', 'args': {'query': 'current weather in Incheon'}, 'id': 'call_Ui2qLo857iKTbcEku0WE2EGn', 'type': 'tool_call'}]\n"
     ]
    }
   ],
   "source": [
    "llm_with_tools = llm.bind_tools(tools=[search_tool])\n",
    "\n",
    "response = llm_with_tools.invoke([HumanMessage(content=\"Hi~\")])\n",
    "print(f\"ContentString: {response.content}\")\n",
    "print(f\"ToolCalls: {response.tool_calls}\")\n",
    "\n",
    "response = llm_with_tools.invoke([HumanMessage(content=\"What is the weather in Incheon?\")])\n",
    "print(f\"ContentString: {response.content}\")\n",
    "print(f\"ToolCalls: {response.tool_calls}\")"
   ]
  },
  {
   "cell_type": "markdown",
   "id": "d722b18e-f35c-484b-8086-2ad7d06b7551",
   "metadata": {},
   "source": [
    "### Create the agent"
   ]
  },
  {
   "cell_type": "code",
   "execution_count": 27,
   "id": "d0432672-2886-4060-ba9e-832300227b91",
   "metadata": {},
   "outputs": [],
   "source": [
    "# create_react_agent will call .bind_tools for us under the hood.\n",
    "from langgraph.prebuilt import create_react_agent\n",
    "\n",
    "agent_executor = create_react_agent(llm, [search_tool])"
   ]
  },
  {
   "cell_type": "code",
   "execution_count": 32,
   "id": "237a5961-5f5b-4d29-b25b-221753c6233c",
   "metadata": {},
   "outputs": [
    {
     "data": {
      "text/plain": [
       "[HumanMessage(content='hi', additional_kwargs={}, response_metadata={}, id='f4185a21-a11d-4905-9f58-71b098b3428e'),\n",
       " AIMessage(content='Hello! How can I assist you today?', additional_kwargs={'refusal': None}, response_metadata={'token_usage': {'completion_tokens': 10, 'prompt_tokens': 80, 'total_tokens': 90, 'completion_tokens_details': {'accepted_prediction_tokens': 0, 'audio_tokens': 0, 'reasoning_tokens': 0, 'rejected_prediction_tokens': 0}, 'prompt_tokens_details': {'audio_tokens': 0, 'cached_tokens': 0}}, 'model_name': 'gpt-4o-mini-2024-07-18', 'system_fingerprint': 'fp_0aa8d3e20b', 'finish_reason': 'stop', 'logprobs': None}, id='run-f3978fd6-e463-4289-8df4-2474d92fe89d-0', usage_metadata={'input_tokens': 80, 'output_tokens': 10, 'total_tokens': 90, 'input_token_details': {'audio': 0, 'cache_read': 0}, 'output_token_details': {'audio': 0, 'reasoning': 0}})]"
      ]
     },
     "execution_count": 32,
     "metadata": {},
     "output_type": "execute_result"
    }
   ],
   "source": [
    "response = agent_executor.invoke({\"messages\": [HumanMessage(content=\"hi\")]})\n",
    "\n",
    "response[\"messages\"]"
   ]
  },
  {
   "cell_type": "code",
   "execution_count": 33,
   "id": "e806451d-13ff-4edc-85ce-59db8d19da84",
   "metadata": {
    "scrolled": true
   },
   "outputs": [
    {
     "data": {
      "text/plain": [
       "[HumanMessage(content='whats the weather in sf?', additional_kwargs={}, response_metadata={}, id='b5255b28-0b7f-44fb-8333-47c2142ebce8'),\n",
       " AIMessage(content='', additional_kwargs={'tool_calls': [{'id': 'call_IaHSJjEKeIPBoKUKlSv4UHV3', 'function': {'arguments': '{\"query\":\"current weather San Francisco\"}', 'name': 'tavily_search_results_json'}, 'type': 'function'}], 'refusal': None}, response_metadata={'token_usage': {'completion_tokens': 21, 'prompt_tokens': 86, 'total_tokens': 107, 'completion_tokens_details': {'accepted_prediction_tokens': 0, 'audio_tokens': 0, 'reasoning_tokens': 0, 'rejected_prediction_tokens': 0}, 'prompt_tokens_details': {'audio_tokens': 0, 'cached_tokens': 0}}, 'model_name': 'gpt-4o-mini-2024-07-18', 'system_fingerprint': 'fp_6fc10e10eb', 'finish_reason': 'tool_calls', 'logprobs': None}, id='run-4e4dc95c-f203-47cb-b7a2-2757fd17760d-0', tool_calls=[{'name': 'tavily_search_results_json', 'args': {'query': 'current weather San Francisco'}, 'id': 'call_IaHSJjEKeIPBoKUKlSv4UHV3', 'type': 'tool_call'}], usage_metadata={'input_tokens': 86, 'output_tokens': 21, 'total_tokens': 107, 'input_token_details': {'audio': 0, 'cache_read': 0}, 'output_token_details': {'audio': 0, 'reasoning': 0}}),\n",
       " ToolMessage(content='[{\"url\": \"https://www.weatherapi.com/\", \"content\": \"{\\'location\\': {\\'name\\': \\'San Francisco\\', \\'region\\': \\'California\\', \\'country\\': \\'United States of America\\', \\'lat\\': 37.775, \\'lon\\': -122.4183, \\'tz_id\\': \\'America/Los_Angeles\\', \\'localtime_epoch\\': 1734569666, \\'localtime\\': \\'2024-12-18 16:54\\'}, \\'current\\': {\\'last_updated_epoch\\': 1734569100, \\'last_updated\\': \\'2024-12-18 16:45\\', \\'temp_c\\': 10.0, \\'temp_f\\': 50.0, \\'is_day\\': 0, \\'condition\\': {\\'text\\': \\'Mist\\', \\'icon\\': \\'//cdn.weatherapi.com/weather/64x64/night/143.png\\', \\'code\\': 1030}, \\'wind_mph\\': 7.8, \\'wind_kph\\': 12.6, \\'wind_degree\\': 24, \\'wind_dir\\': \\'NNE\\', \\'pressure_mb\\': 1022.0, \\'pressure_in\\': 30.18, \\'precip_mm\\': 0.0, \\'precip_in\\': 0.0, \\'humidity\\': 95, \\'cloud\\': 57, \\'feelslike_c\\': 8.4, \\'feelslike_f\\': 47.1, \\'windchill_c\\': 8.4, \\'windchill_f\\': 47.1, \\'heatindex_c\\': 10.0, \\'heatindex_f\\': 50.0, \\'dewpoint_c\\': 9.2, \\'dewpoint_f\\': 48.5, \\'vis_km\\': 10.0, \\'vis_miles\\': 6.0, \\'uv\\': 0.2, \\'gust_mph\\': 12.8, \\'gust_kph\\': 20.6}}\"}, {\"url\": \"https://world-weather.info/forecast/usa/san_francisco/december-2024/\", \"content\": \"Detailed ⚡ San Francisco Weather Forecast for December 2024 - day/night 🌡️ temperatures, precipitations - World-Weather.info ... World; United States; California; Weather in San Francisco; Weather in San Francisco in December 2024. San Francisco Weather Forecast for December 2024 is based on long term prognosis and previous years\"}]', name='tavily_search_results_json', id='3970172b-83a2-49c8-9355-62529507f999', tool_call_id='call_IaHSJjEKeIPBoKUKlSv4UHV3', artifact={'query': 'current weather San Francisco', 'follow_up_questions': None, 'answer': None, 'images': [], 'results': [{'title': 'Weather in San Francisco', 'url': 'https://www.weatherapi.com/', 'content': \"{'location': {'name': 'San Francisco', 'region': 'California', 'country': 'United States of America', 'lat': 37.775, 'lon': -122.4183, 'tz_id': 'America/Los_Angeles', 'localtime_epoch': 1734569666, 'localtime': '2024-12-18 16:54'}, 'current': {'last_updated_epoch': 1734569100, 'last_updated': '2024-12-18 16:45', 'temp_c': 10.0, 'temp_f': 50.0, 'is_day': 0, 'condition': {'text': 'Mist', 'icon': '//cdn.weatherapi.com/weather/64x64/night/143.png', 'code': 1030}, 'wind_mph': 7.8, 'wind_kph': 12.6, 'wind_degree': 24, 'wind_dir': 'NNE', 'pressure_mb': 1022.0, 'pressure_in': 30.18, 'precip_mm': 0.0, 'precip_in': 0.0, 'humidity': 95, 'cloud': 57, 'feelslike_c': 8.4, 'feelslike_f': 47.1, 'windchill_c': 8.4, 'windchill_f': 47.1, 'heatindex_c': 10.0, 'heatindex_f': 50.0, 'dewpoint_c': 9.2, 'dewpoint_f': 48.5, 'vis_km': 10.0, 'vis_miles': 6.0, 'uv': 0.2, 'gust_mph': 12.8, 'gust_kph': 20.6}}\", 'score': 0.9600884, 'raw_content': None}, {'title': 'Weather in San Francisco in December 2024', 'url': 'https://world-weather.info/forecast/usa/san_francisco/december-2024/', 'content': 'Detailed ⚡ San Francisco Weather Forecast for December 2024 - day/night 🌡️ temperatures, precipitations - World-Weather.info ... World; United States; California; Weather in San Francisco; Weather in San Francisco in December 2024. San Francisco Weather Forecast for December 2024 is based on long term prognosis and previous years', 'score': 0.73505294, 'raw_content': None}], 'response_time': 2.54}),\n",
       " AIMessage(content='The current weather in San Francisco is as follows:\\n\\n- **Temperature**: 10°C (50°F)\\n- **Condition**: Mist\\n- **Wind**: 7.8 mph (12.6 kph) from the NNE\\n- **Humidity**: 95%\\n- **Visibility**: 10 km (6 miles)\\n\\nFor more detailed information, you can check the [weather forecast here](https://www.weatherapi.com/).', additional_kwargs={'refusal': None}, response_metadata={'token_usage': {'completion_tokens': 94, 'prompt_tokens': 622, 'total_tokens': 716, 'completion_tokens_details': {'accepted_prediction_tokens': 0, 'audio_tokens': 0, 'reasoning_tokens': 0, 'rejected_prediction_tokens': 0}, 'prompt_tokens_details': {'audio_tokens': 0, 'cached_tokens': 0}}, 'model_name': 'gpt-4o-mini-2024-07-18', 'system_fingerprint': 'fp_0aa8d3e20b', 'finish_reason': 'stop', 'logprobs': None}, id='run-7b2dd8cb-c4a2-409c-9875-d93d287d4f11-0', usage_metadata={'input_tokens': 622, 'output_tokens': 94, 'total_tokens': 716, 'input_token_details': {'audio': 0, 'cache_read': 0}, 'output_token_details': {'audio': 0, 'reasoning': 0}})]"
      ]
     },
     "execution_count": 33,
     "metadata": {},
     "output_type": "execute_result"
    }
   ],
   "source": [
    "response = agent_executor.invoke(\n",
    "    {\"messages\": [HumanMessage(content=\"whats the weather in sf?\")]}\n",
    ")\n",
    "response[\"messages\"]"
   ]
  },
  {
   "cell_type": "markdown",
   "id": "0a3b79b8-07f4-46d1-87a2-2f0cc116c0cc",
   "metadata": {},
   "source": [
    "### Streaming tokens"
   ]
  },
  {
   "cell_type": "code",
   "execution_count": 39,
   "id": "33bdf65e-0214-4018-bd5b-2329c3279702",
   "metadata": {},
   "outputs": [
    {
     "name": "stdout",
     "output_type": "stream",
     "text": [
      "--\n",
      "Starting tool: tavily_search_results_json with inputs: {'query': 'Seoul weather'}\n",
      "Done tool: tavily_search_results_json\n",
      "Tool output was: content='[{\"url\": \"https://www.weatherapi.com/\", \"content\": \"{\\'location\\': {\\'name\\': \\'Seoul\\', \\'region\\': \\'\\', \\'country\\': \\'South Korea\\', \\'lat\\': 37.5664, \\'lon\\': 126.9997, \\'tz_id\\': \\'Asia/Seoul\\', \\'localtime_epoch\\': 1734568755, \\'localtime\\': \\'2024-12-19 09:39\\'}, \\'current\\': {\\'last_updated_epoch\\': 1734568200, \\'last_updated\\': \\'2024-12-19 09:30\\', \\'temp_c\\': -2.0, \\'temp_f\\': 28.4, \\'is_day\\': 1, \\'condition\\': {\\'text\\': \\'Sunny\\', \\'icon\\': \\'//cdn.weatherapi.com/weather/64x64/day/113.png\\', \\'code\\': 1000}, \\'wind_mph\\': 2.2, \\'wind_kph\\': 3.6, \\'wind_degree\\': 27, \\'wind_dir\\': \\'NNE\\', \\'pressure_mb\\': 1031.0, \\'pressure_in\\': 30.45, \\'precip_mm\\': 0.0, \\'precip_in\\': 0.0, \\'humidity\\': 32, \\'cloud\\': 0, \\'feelslike_c\\': -2.0, \\'feelslike_f\\': 28.4, \\'windchill_c\\': -2.0, \\'windchill_f\\': 28.4, \\'heatindex_c\\': -2.0, \\'heatindex_f\\': 28.4, \\'dewpoint_c\\': -16.5, \\'dewpoint_f\\': 2.3, \\'vis_km\\': 10.0, \\'vis_miles\\': 6.0, \\'uv\\': 0.3, \\'gust_mph\\': 6.7, \\'gust_kph\\': 10.8}}\"}, {\"url\": \"https://world-weather.info/forecast/south_korea/seoul/december-2024/\", \"content\": \"Detailed ⚡ Seoul Weather Forecast for December 2024 - day/night 🌡️ temperatures, precipitations - World-Weather.info ... 12 +41° +30° 13 +39° +32° 14 +37° +28° 15 +43° +30° 16 +39° +28° 17 +36° +30° 18 +34° +25° 19 +37°\"}]' name='tavily_search_results_json' tool_call_id='call_uQJhViKQd3kElK4ewGDHcOB6' artifact={'query': 'Seoul weather', 'follow_up_questions': None, 'answer': None, 'images': [], 'results': [{'title': 'Weather in Seoul, South Korea', 'url': 'https://www.weatherapi.com/', 'content': \"{'location': {'name': 'Seoul', 'region': '', 'country': 'South Korea', 'lat': 37.5664, 'lon': 126.9997, 'tz_id': 'Asia/Seoul', 'localtime_epoch': 1734568755, 'localtime': '2024-12-19 09:39'}, 'current': {'last_updated_epoch': 1734568200, 'last_updated': '2024-12-19 09:30', 'temp_c': -2.0, 'temp_f': 28.4, 'is_day': 1, 'condition': {'text': 'Sunny', 'icon': '//cdn.weatherapi.com/weather/64x64/day/113.png', 'code': 1000}, 'wind_mph': 2.2, 'wind_kph': 3.6, 'wind_degree': 27, 'wind_dir': 'NNE', 'pressure_mb': 1031.0, 'pressure_in': 30.45, 'precip_mm': 0.0, 'precip_in': 0.0, 'humidity': 32, 'cloud': 0, 'feelslike_c': -2.0, 'feelslike_f': 28.4, 'windchill_c': -2.0, 'windchill_f': 28.4, 'heatindex_c': -2.0, 'heatindex_f': 28.4, 'dewpoint_c': -16.5, 'dewpoint_f': 2.3, 'vis_km': 10.0, 'vis_miles': 6.0, 'uv': 0.3, 'gust_mph': 6.7, 'gust_kph': 10.8}}\", 'score': 0.9384457, 'raw_content': None}, {'title': 'Weather in Seoul in December 2024', 'url': 'https://world-weather.info/forecast/south_korea/seoul/december-2024/', 'content': 'Detailed ⚡ Seoul Weather Forecast for December 2024 - day/night 🌡️ temperatures, precipitations - World-Weather.info ... 12 +41° +30° 13 +39° +32° 14 +37° +28° 15 +43° +30° 16 +39° +28° 17 +36° +30° 18 +34° +25° 19 +37°', 'score': 0.8665964, 'raw_content': None}], 'response_time': 3.09}\n",
      "--\n",
      "The| current| weather| in| Seoul| is| as| follows|:\n",
      "\n",
      "|-| **|Temperature|**|:| -|2|.|0|°C| (|28|.|4|°F|)\n",
      "|-| **|Condition|**|:| Sunny|\n",
      "|-| **|Wind|**|:| |2|.|2| mph| (|3|.|6| k|ph|)| from| the| N|NE|\n",
      "|-| **|Humidity|**|:| |32|%\n",
      "|-| **|Pressure|**|:| |103|1| mb|\n",
      "|-| **|Visibility|**|:| |10| km|\n",
      "\n",
      "|For| more| detailed| information|,| you| can| check| [|Weather| API|](|https|://|www|.weather|api|.com|/)| or| [|World| Weather| Info|](|https|://|world|-weather|.info|/|forecast|/s|outh|_k|orea|/se|oul|/|dec|ember|-|202|4|/|).|"
     ]
    }
   ],
   "source": [
    "async for event in agent_executor.astream_events(\n",
    "    {\"messages\": [HumanMessage(content=\"Whats the weather in Seoul?\")]}, version=\"v1\"\n",
    "):\n",
    "    kind = event['event']\n",
    "    if kind == \"on_chain_start\":\n",
    "        if event['name'] == 'Agent':\n",
    "            print(f\"Starting agent: {event['name']} with input: {event['data'].get('input')}\")\n",
    "    elif kind == \"on_chain_end\":\n",
    "        if event['name'] == 'Agent':\n",
    "            print()\n",
    "            print(\"--\")\n",
    "            print(f\"Done agent: {event['name']} with input: {event['data'].get('output')['output']}\")\n",
    "            \n",
    "    if kind == \"on_chat_model_stream\":\n",
    "        content = event['data']['chunk'].content\n",
    "        if content:\n",
    "            print(content, end=\"|\")\n",
    "            \n",
    "    elif kind == \"on_tool_start\":\n",
    "        print(\"--\")\n",
    "        print(f\"Starting tool: {event['name']} with inputs: {event['data'].get('input')}\")\n",
    "        \n",
    "    elif kind == \"on_tool_end\":\n",
    "        print(f\"Done tool: {event['name']}\")\n",
    "        print(f\"Tool output was: {event['data'].get('output')}\")\n",
    "        print(\"--\")"
   ]
  },
  {
   "cell_type": "markdown",
   "id": "8509269d-e3d0-4ff3-b38f-877478ea1339",
   "metadata": {},
   "source": [
    "### Adding in memory"
   ]
  },
  {
   "cell_type": "code",
   "execution_count": 49,
   "id": "6277917b-e6a6-43f5-8689-04568ff57f19",
   "metadata": {},
   "outputs": [],
   "source": [
    "from langgraph.checkpoint.memory import MemorySaver\n",
    "\n",
    "memory = MemorySaver()"
   ]
  },
  {
   "cell_type": "code",
   "execution_count": 50,
   "id": "f7190b97-3634-4e09-842e-214b4894561d",
   "metadata": {},
   "outputs": [],
   "source": [
    "agent_executor = create_react_agent(llm, [search_tool], checkpointer=memory)\n",
    "\n",
    "config = {\"configurable\": {\"thread_id\": \"abc123\"}}"
   ]
  },
  {
   "cell_type": "code",
   "execution_count": 52,
   "id": "3fcced41-73f6-4bc4-9f21-c8b44e546c7e",
   "metadata": {},
   "outputs": [
    {
     "name": "stdout",
     "output_type": "stream",
     "text": [
      "{'agent': {'messages': [AIMessage(content='Hi Jiyun! How can I assist you today?', additional_kwargs={'refusal': None}, response_metadata={'token_usage': {'completion_tokens': 13, 'prompt_tokens': 85, 'total_tokens': 98, 'completion_tokens_details': {'accepted_prediction_tokens': 0, 'audio_tokens': 0, 'reasoning_tokens': 0, 'rejected_prediction_tokens': 0}, 'prompt_tokens_details': {'audio_tokens': 0, 'cached_tokens': 0}}, 'model_name': 'gpt-4o-mini-2024-07-18', 'system_fingerprint': 'fp_39a40c96a0', 'finish_reason': 'stop', 'logprobs': None}, id='run-80883df5-992f-4015-9efc-b49887685b70-0', usage_metadata={'input_tokens': 85, 'output_tokens': 13, 'total_tokens': 98, 'input_token_details': {'audio': 0, 'cache_read': 0}, 'output_token_details': {'audio': 0, 'reasoning': 0}})]}}\n",
      "-----\n"
     ]
    }
   ],
   "source": [
    "for chunk in agent_executor.stream(\n",
    "    {\"messages\": [HumanMessage(content=\"Hi! I'm jiyun\")]}, config\n",
    "):\n",
    "    print(chunk)\n",
    "    print(\"-----\")"
   ]
  },
  {
   "cell_type": "code",
   "execution_count": 53,
   "id": "746640ee-1f22-4a5b-adb2-4b860b094221",
   "metadata": {},
   "outputs": [
    {
     "name": "stdout",
     "output_type": "stream",
     "text": [
      "{'agent': {'messages': [AIMessage(content='Your name is Jiyun. How can I help you today, Jiyun?', additional_kwargs={'refusal': None}, response_metadata={'token_usage': {'completion_tokens': 19, 'prompt_tokens': 110, 'total_tokens': 129, 'completion_tokens_details': {'accepted_prediction_tokens': 0, 'audio_tokens': 0, 'reasoning_tokens': 0, 'rejected_prediction_tokens': 0}, 'prompt_tokens_details': {'audio_tokens': 0, 'cached_tokens': 0}}, 'model_name': 'gpt-4o-mini-2024-07-18', 'system_fingerprint': 'fp_0aa8d3e20b', 'finish_reason': 'stop', 'logprobs': None}, id='run-5e9f085a-44dc-4001-ab29-46f89a491123-0', usage_metadata={'input_tokens': 110, 'output_tokens': 19, 'total_tokens': 129, 'input_token_details': {'audio': 0, 'cache_read': 0}, 'output_token_details': {'audio': 0, 'reasoning': 0}})]}}\n",
      "----\n"
     ]
    }
   ],
   "source": [
    "for chunk in agent_executor.stream(\n",
    "    {\"messages\": [HumanMessage(content=\"whats my name?\")]}, config\n",
    "):\n",
    "    print(chunk)\n",
    "    print(\"----\")"
   ]
  },
  {
   "cell_type": "code",
   "execution_count": 54,
   "id": "2395ae44-d656-461b-9b09-9db2abee1264",
   "metadata": {},
   "outputs": [
    {
     "name": "stdout",
     "output_type": "stream",
     "text": [
      "{'agent': {'messages': [AIMessage(content=\"I don't have access to personal data about users unless it has been shared with me during our conversation. Therefore, I don't know your name. If you'd like to share it, feel free to do so!\", additional_kwargs={'refusal': None}, response_metadata={'token_usage': {'completion_tokens': 42, 'prompt_tokens': 84, 'total_tokens': 126, 'completion_tokens_details': {'accepted_prediction_tokens': 0, 'audio_tokens': 0, 'reasoning_tokens': 0, 'rejected_prediction_tokens': 0}, 'prompt_tokens_details': {'audio_tokens': 0, 'cached_tokens': 0}}, 'model_name': 'gpt-4o-mini-2024-07-18', 'system_fingerprint': 'fp_0aa8d3e20b', 'finish_reason': 'stop', 'logprobs': None}, id='run-bd6b7f6c-1bde-46d7-882a-7cb70b4280e6-0', usage_metadata={'input_tokens': 84, 'output_tokens': 42, 'total_tokens': 126, 'input_token_details': {'audio': 0, 'cache_read': 0}, 'output_token_details': {'audio': 0, 'reasoning': 0}})]}}\n",
      "----\n"
     ]
    }
   ],
   "source": [
    "config = {\"configurable\": {\"thread_id\": \"xyz123\"}}\n",
    "\n",
    "for chunk in agent_executor.stream(\n",
    "    {\"messages\": [HumanMessage(content=\"whats my name?\")]}, config\n",
    "):\n",
    "    print(chunk)\n",
    "    print(\"----\")"
   ]
  },
  {
   "cell_type": "code",
   "execution_count": null,
   "id": "1882108f-5c2f-457c-950e-97297e10c355",
   "metadata": {},
   "outputs": [],
   "source": []
  }
 ],
 "metadata": {
  "kernelspec": {
   "display_name": "Python 3 (ipykernel)",
   "language": "python",
   "name": "python3"
  },
  "language_info": {
   "codemirror_mode": {
    "name": "ipython",
    "version": 3
   },
   "file_extension": ".py",
   "mimetype": "text/x-python",
   "name": "python",
   "nbconvert_exporter": "python",
   "pygments_lexer": "ipython3",
   "version": "3.10.12"
  }
 },
 "nbformat": 4,
 "nbformat_minor": 5
}
